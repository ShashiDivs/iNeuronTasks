{
 "cells": [
  {
   "cell_type": "markdown",
   "id": "3306a599",
   "metadata": {},
   "source": [
    "q1 prtint the following pattern\n",
    "sudh \n",
    "sudh sudh \n",
    "sudh sudh sudh \n",
    "sudh sudh sudh sudh"
   ]
  },
  {
   "cell_type": "code",
   "execution_count": 1,
   "id": "f1fd4b2c",
   "metadata": {},
   "outputs": [
    {
     "name": "stdout",
     "output_type": "stream",
     "text": [
      "sudh \n",
      "sudh sudh \n",
      "sudh sudh sudh \n",
      "sudh sudh sudh sudh \n"
     ]
    }
   ],
   "source": [
    "n=4\n",
    "for i in range(n):\n",
    "    for j in range(i+1):\n",
    "        print(\"sudh\",end=\" \")\n",
    "    print()"
   ]
  },
  {
   "cell_type": "code",
   "execution_count": null,
   "id": "0aeb884c",
   "metadata": {},
   "outputs": [],
   "source": [
    "q2 print the following pattern"
   ]
  },
  {
   "cell_type": "code",
   "execution_count": 212,
   "id": "abd6f0f8",
   "metadata": {},
   "outputs": [
    {
     "name": "stdout",
     "output_type": "stream",
     "text": [
      "               sudh \n",
      "          sudh sudh sudh \n",
      "     sudh sudh sudh sudh sudh \n",
      "sudh sudh sudh sudh sudh sudh sudh \n"
     ]
    }
   ],
   "source": [
    "n=4\n",
    "for i in range(n):\n",
    "    for j in range(i,n-1):\n",
    "        print(\" \" * len(\"sudh\"), end=\" \")\n",
    "    for j in range(i+1):\n",
    "        print(\"sudh\", end=\" \")\n",
    "    for j in range(i):\n",
    "        print(\"sudh\", end=\" \")\n",
    "    print()"
   ]
  },
  {
   "cell_type": "code",
   "execution_count": 2,
   "id": "102b1741",
   "metadata": {},
   "outputs": [],
   "source": [
    "l = [[1,2,3,4], (2,3,4,5,6), (3,4,5,6,7),set([23,4,5,45,4,4,5,45,45,4,5]),{\"k1\":\"sudh\",\"k2\":\"ineuron\",\"k3\":\"kumar\",3:6,7:8},[\"ineuron\", \"data science\"]]"
   ]
  },
  {
   "cell_type": "code",
   "execution_count": 3,
   "id": "573095fb",
   "metadata": {},
   "outputs": [
    {
     "data": {
      "text/plain": [
       "[[1, 2, 3, 4],\n",
       " (2, 3, 4, 5, 6),\n",
       " (3, 4, 5, 6, 7),\n",
       " {4, 5, 23, 45},\n",
       " {'k1': 'sudh', 'k2': 'ineuron', 'k3': 'kumar', 3: 6, 7: 8},\n",
       " ['ineuron', 'data science']]"
      ]
     },
     "execution_count": 3,
     "metadata": {},
     "output_type": "execute_result"
    }
   ],
   "source": [
    "l"
   ]
  },
  {
   "cell_type": "markdown",
   "id": "2bee49d6",
   "metadata": {},
   "source": [
    "q3 try to extract all the list entity"
   ]
  },
  {
   "cell_type": "code",
   "execution_count": 4,
   "id": "1e6f9b60",
   "metadata": {},
   "outputs": [
    {
     "name": "stdout",
     "output_type": "stream",
     "text": [
      "[1, 2, 3, 4]\n",
      "['ineuron', 'data science']\n"
     ]
    }
   ],
   "source": [
    "for i in l:\n",
    "    if type(i)==list:\n",
    "        print(i)"
   ]
  },
  {
   "cell_type": "markdown",
   "id": "70f295ed",
   "metadata": {},
   "source": [
    "q4: try to extract all the dict entities"
   ]
  },
  {
   "cell_type": "code",
   "execution_count": 5,
   "id": "f0c7c242",
   "metadata": {},
   "outputs": [
    {
     "name": "stdout",
     "output_type": "stream",
     "text": [
      "{'k1': 'sudh', 'k2': 'ineuron', 'k3': 'kumar', 3: 6, 7: 8}\n"
     ]
    }
   ],
   "source": [
    "for i in l:\n",
    "    if type(i)==dict:\n",
    "        print(i)"
   ]
  },
  {
   "cell_type": "markdown",
   "id": "ae23c497",
   "metadata": {},
   "source": [
    "q5: try to extract all the tuple entities"
   ]
  },
  {
   "cell_type": "code",
   "execution_count": 6,
   "id": "4020c0a8",
   "metadata": {
    "scrolled": true
   },
   "outputs": [
    {
     "name": "stdout",
     "output_type": "stream",
     "text": [
      "(2, 3, 4, 5, 6)\n",
      "(3, 4, 5, 6, 7)\n"
     ]
    }
   ],
   "source": [
    "for i in l:\n",
    "    if type(i)==tuple:\n",
    "        print(i)"
   ]
  },
  {
   "cell_type": "markdown",
   "id": "e784ed1e",
   "metadata": {},
   "source": [
    "q6: try to extract all the numerical data it may be part of dict key and values"
   ]
  },
  {
   "cell_type": "code",
   "execution_count": 7,
   "id": "13bea7e7",
   "metadata": {},
   "outputs": [
    {
     "name": "stdout",
     "output_type": "stream",
     "text": [
      "3 : 6\n",
      "7 : 8\n"
     ]
    }
   ],
   "source": [
    "for i in l:\n",
    "    if type(i) == dict:\n",
    "        for x,y in i.items():\n",
    "            if type(x)==int or type(y)==int:\n",
    "                print(x,\":\", y)"
   ]
  },
  {
   "cell_type": "markdown",
   "id": "11055aef",
   "metadata": {},
   "source": [
    "q7 : try to give summation of all the numerical data "
   ]
  },
  {
   "cell_type": "code",
   "execution_count": 67,
   "id": "5f26cac8",
   "metadata": {},
   "outputs": [
    {
     "name": "stdout",
     "output_type": "stream",
     "text": [
      "Summation of the numbers in the list:  142\n"
     ]
    }
   ],
   "source": [
    "lsum = []\n",
    "for i in l:\n",
    "    if type(i) == list or tuple or set or dict:\n",
    "        for j in i:\n",
    "            if type(j) == int:\n",
    "                    lsum.append(j)\n",
    "lsum\n",
    "sum = 0\n",
    "for i in lsum:\n",
    "    if i+i:\n",
    "        sum= sum+i\n",
    "print(\"Summation of the numbers in the list: \",sum)"
   ]
  },
  {
   "cell_type": "markdown",
   "id": "e42c0799",
   "metadata": {},
   "source": [
    "q8 : Try to filter out all the odd values out all numeric data which is part of list"
   ]
  },
  {
   "cell_type": "code",
   "execution_count": 31,
   "id": "1c916eb2",
   "metadata": {},
   "outputs": [
    {
     "name": "stdout",
     "output_type": "stream",
     "text": [
      "the odd number in the list: \n",
      "1\n",
      "3\n",
      "3\n",
      "5\n",
      "3\n",
      "5\n",
      "7\n",
      "45\n",
      "5\n",
      "23\n",
      "3\n",
      "7\n"
     ]
    }
   ],
   "source": [
    "print(\"the odd number in the list: \")\n",
    "for i in l:\n",
    "    if type(i)==list or tuple or set:\n",
    "        for j in i:\n",
    "            if type(j)==int:\n",
    "                if j%2!=0:\n",
    "                    print(j)"
   ]
  },
  {
   "cell_type": "markdown",
   "id": "626d8749",
   "metadata": {},
   "source": [
    "q9: try to extract \"ineuron\" out of this data"
   ]
  },
  {
   "cell_type": "code",
   "execution_count": 68,
   "id": "61a85f63",
   "metadata": {},
   "outputs": [
    {
     "name": "stdout",
     "output_type": "stream",
     "text": [
      "Extracion of ineuron in the list: ineuron\n"
     ]
    }
   ],
   "source": [
    "for i in l:\n",
    "    if \"ineuron\" in i:\n",
    "        print(\"Extracion of ineuron in the list:\",i[0])"
   ]
  },
  {
   "cell_type": "markdown",
   "id": "f03085b0",
   "metadata": {},
   "source": [
    "q10.try to find out a number of occurances in the data"
   ]
  },
  {
   "cell_type": "code",
   "execution_count": 202,
   "id": "7e710897",
   "metadata": {},
   "outputs": [
    {
     "data": {
      "text/plain": [
       "[1, 2, 3, 4, 5, 6, 7, 45, 23]"
      ]
     },
     "execution_count": 202,
     "metadata": {},
     "output_type": "execute_result"
    }
   ],
   "source": [
    "lmul = []\n",
    "for i in l:\n",
    "    if type(i) == list or tuple or set or dict:\n",
    "        for j in i:\n",
    "            if type(j) == int:\n",
    "                lmul.append(j)\n",
    "lmul\n",
    "occur = []\n",
    "for i in lmul:\n",
    "    if i not in occur:\n",
    "        occur.append(i)\n",
    "occur"
   ]
  },
  {
   "cell_type": "markdown",
   "id": "4b6a2ca2",
   "metadata": {},
   "source": [
    "q11.try to find number of keys in dict element"
   ]
  },
  {
   "cell_type": "code",
   "execution_count": 97,
   "id": "40c37b08",
   "metadata": {},
   "outputs": [
    {
     "name": "stdout",
     "output_type": "stream",
     "text": [
      "the number of keys in dict element : 5\n",
      "k1\n",
      "k2\n",
      "k3\n",
      "3\n",
      "7\n"
     ]
    }
   ],
   "source": [
    "print(\"the number of keys in dict element :\", num)\n",
    "num = 0\n",
    "for i in l:\n",
    "    if type(i)==dict:\n",
    "        for j in i:\n",
    "            num+=1\n",
    "            print(j)"
   ]
  },
  {
   "cell_type": "markdown",
   "id": "e774ff9c",
   "metadata": {},
   "source": [
    "12.Try to filter out all the string Data"
   ]
  },
  {
   "cell_type": "code",
   "execution_count": 79,
   "id": "1249efb9",
   "metadata": {},
   "outputs": [
    {
     "name": "stdout",
     "output_type": "stream",
     "text": [
      "These are the string data in the list :\n",
      "k1\n",
      "k2\n",
      "k3\n",
      "ineuron\n",
      "data science\n"
     ]
    }
   ],
   "source": [
    "print(\"These are the string data in the list :\")\n",
    "for i in l:\n",
    "    if type(i)==list or dict:\n",
    "        for j in i:\n",
    "            if type(j) != int:\n",
    "                print(j)"
   ]
  },
  {
   "cell_type": "markdown",
   "id": "0840f897",
   "metadata": {},
   "source": [
    "q13 try to find alphanum in data"
   ]
  },
  {
   "cell_type": "code",
   "execution_count": 37,
   "id": "cc658990",
   "metadata": {},
   "outputs": [
    {
     "name": "stdout",
     "output_type": "stream",
     "text": [
      "k1\n",
      "k2\n",
      "k3\n"
     ]
    }
   ],
   "source": [
    "for i in l:\n",
    "    if type(i)==dict:\n",
    "        for j in i:\n",
    "            if type(j)!=int:\n",
    "                print(j)"
   ]
  },
  {
   "cell_type": "markdown",
   "id": "4fdf25f6",
   "metadata": {},
   "source": [
    "q14.try to find out multiplication of all numeric values in the individual collection inside the dataset"
   ]
  },
  {
   "cell_type": "code",
   "execution_count": 201,
   "id": "763de982",
   "metadata": {},
   "outputs": [
    {
     "name": "stdout",
     "output_type": "stream",
     "text": [
      "The multiplication of numbers in list:\n",
      "901393920000\n"
     ]
    }
   ],
   "source": [
    "lup=[]\n",
    "for i in l:\n",
    "    if type(i)==list or type(i)==set or type(i)==tuple:\n",
    "        for j in i:\n",
    "            if type(j)==int:\n",
    "                lup.append(j)\n",
    "lup\n",
    "mul=1\n",
    "print(\"The multiplication of numbers in list:\")\n",
    "for i in lup:\n",
    "    mul = mul*i\n",
    "print(mul)"
   ]
  },
  {
   "cell_type": "markdown",
   "id": "ca6cb6f3",
   "metadata": {},
   "source": [
    "q15:try to unwrape all the collection inside collection and create a flat list"
   ]
  },
  {
   "cell_type": "code",
   "execution_count": 39,
   "id": "9c7a21da",
   "metadata": {},
   "outputs": [
    {
     "data": {
      "text/plain": [
       "[1,\n",
       " 2,\n",
       " 3,\n",
       " 4,\n",
       " 2,\n",
       " 3,\n",
       " 4,\n",
       " 5,\n",
       " 6,\n",
       " 3,\n",
       " 4,\n",
       " 5,\n",
       " 6,\n",
       " 7,\n",
       " 45,\n",
       " 4,\n",
       " 5,\n",
       " 23,\n",
       " 'k1',\n",
       " 'k2',\n",
       " 'k3',\n",
       " 3,\n",
       " 7,\n",
       " 'ineuron',\n",
       " 'data science']"
      ]
     },
     "execution_count": 39,
     "metadata": {},
     "output_type": "execute_result"
    }
   ],
   "source": [
    "lwrp = []\n",
    "for i in l:\n",
    "    if type(i)==list or dict or set or tuple:\n",
    "        for j in i:\n",
    "            if type(j)==list or dict or set or tuple:\n",
    "                lwrp.append(j)\n",
    "lwrp"
   ]
  },
  {
   "cell_type": "code",
   "execution_count": null,
   "id": "30d06d1d",
   "metadata": {},
   "outputs": [],
   "source": []
  }
 ],
 "metadata": {
  "kernelspec": {
   "display_name": "Python 3 (ipykernel)",
   "language": "python",
   "name": "python3"
  },
  "language_info": {
   "codemirror_mode": {
    "name": "ipython",
    "version": 3
   },
   "file_extension": ".py",
   "mimetype": "text/x-python",
   "name": "python",
   "nbconvert_exporter": "python",
   "pygments_lexer": "ipython3",
   "version": "3.9.7"
  }
 },
 "nbformat": 4,
 "nbformat_minor": 5
}
