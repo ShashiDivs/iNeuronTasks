{
 "cells": [
  {
   "cell_type": "code",
   "execution_count": 1,
   "id": "78e0e175",
   "metadata": {},
   "outputs": [],
   "source": [
    "#13 questions about string and general awareness of Python"
   ]
  },
  {
   "cell_type": "markdown",
   "id": "c3078088",
   "metadata": {},
   "source": [
    "the follwing string is used to maipulate and slicing for the entire questions."
   ]
  },
  {
   "cell_type": "code",
   "execution_count": 2,
   "id": "c29520e5",
   "metadata": {},
   "outputs": [],
   "source": [
    "sasi = \"this is My First Python programming class and i am learNING python string and its function\""
   ]
  },
  {
   "cell_type": "markdown",
   "id": "22c987e4",
   "metadata": {},
   "source": [
    "1 . Try to extract data from index one to index 300 with a jump of 3 "
   ]
  },
  {
   "cell_type": "code",
   "execution_count": 3,
   "id": "520f98f5",
   "metadata": {},
   "outputs": [
    {
     "data": {
      "text/plain": [
       "'tssyityopgmncsa alrNph rgni ni'"
      ]
     },
     "execution_count": 3,
     "metadata": {},
     "output_type": "execute_result"
    }
   ],
   "source": [
    "sasi[0:300:3]"
   ]
  },
  {
   "cell_type": "markdown",
   "id": "bcef3760",
   "metadata": {},
   "source": [
    "2.Try to reverse a string without using reverse function "
   ]
  },
  {
   "cell_type": "code",
   "execution_count": 4,
   "id": "a99bdba0",
   "metadata": {},
   "outputs": [
    {
     "data": {
      "text/plain": [
       "'noitcnuf sti dna gnirts nohtyp GNINrael ma i dna ssalc gnimmargorp nohtyP tsriF yM si siht'"
      ]
     },
     "execution_count": 4,
     "metadata": {},
     "output_type": "execute_result"
    }
   ],
   "source": [
    "sasi[::-1]"
   ]
  },
  {
   "cell_type": "markdown",
   "id": "9dec8955",
   "metadata": {},
   "source": [
    "3.Try to split a string after conversion of entire string in uppercase"
   ]
  },
  {
   "cell_type": "code",
   "execution_count": 5,
   "id": "dfaa9194",
   "metadata": {},
   "outputs": [
    {
     "data": {
      "text/plain": [
       "['THIS',\n",
       " 'IS',\n",
       " 'MY',\n",
       " 'FIRST',\n",
       " 'PYTHON',\n",
       " 'PROGRAMMING',\n",
       " 'CLASS',\n",
       " 'AND',\n",
       " 'I',\n",
       " 'AM',\n",
       " 'LEARNING',\n",
       " 'PYTHON',\n",
       " 'STRING',\n",
       " 'AND',\n",
       " 'ITS',\n",
       " 'FUNCTION']"
      ]
     },
     "execution_count": 5,
     "metadata": {},
     "output_type": "execute_result"
    }
   ],
   "source": [
    "sasi.upper().split()"
   ]
  },
  {
   "cell_type": "markdown",
   "id": "10766272",
   "metadata": {},
   "source": [
    "4.try to convert the whole string into lower case "
   ]
  },
  {
   "cell_type": "code",
   "execution_count": 6,
   "id": "0183c078",
   "metadata": {},
   "outputs": [
    {
     "data": {
      "text/plain": [
       "'this is my first python programming class and i am learning python string and its function'"
      ]
     },
     "execution_count": 6,
     "metadata": {},
     "output_type": "execute_result"
    }
   ],
   "source": [
    "sasi.lower()"
   ]
  },
  {
   "cell_type": "markdown",
   "id": "c3abcbcc",
   "metadata": {},
   "source": [
    "5.Try to capitalize the whole string "
   ]
  },
  {
   "cell_type": "code",
   "execution_count": 7,
   "id": "b7a00b00",
   "metadata": {},
   "outputs": [
    {
     "data": {
      "text/plain": [
       "'This is my first python programming class and i am learning python string and its function'"
      ]
     },
     "execution_count": 7,
     "metadata": {},
     "output_type": "execute_result"
    }
   ],
   "source": [
    "sasi.capitalize()"
   ]
  },
  {
   "cell_type": "markdown",
   "id": "8a450117",
   "metadata": {},
   "source": [
    "6.Write a diference between isalnum() and isalpha()"
   ]
  },
  {
   "cell_type": "code",
   "execution_count": 8,
   "id": "f1159ea3",
   "metadata": {},
   "outputs": [
    {
     "data": {
      "text/plain": [
       "False"
      ]
     },
     "execution_count": 8,
     "metadata": {},
     "output_type": "execute_result"
    }
   ],
   "source": [
    "sasi.isalpha()"
   ]
  },
  {
   "cell_type": "code",
   "execution_count": 9,
   "id": "f96f2cb3",
   "metadata": {},
   "outputs": [
    {
     "data": {
      "text/plain": [
       "False"
      ]
     },
     "execution_count": 9,
     "metadata": {},
     "output_type": "execute_result"
    }
   ],
   "source": [
    "sasi.isalnum()"
   ]
  },
  {
   "cell_type": "markdown",
   "id": "886662d7",
   "metadata": {},
   "source": [
    "The differenec between above two functions work under the boolean structure to find the given condition whether the string\n",
    "has only alphabates or numeric in these two conditions the string has failed to find the True due to the case senstive nature of the python programm even the spaces count as a letters so isalpha is false and isnumeric false to not having any number in string."
   ]
  },
  {
   "cell_type": "markdown",
   "id": "577b0889",
   "metadata": {},
   "source": [
    "7.Try to give an example of expand tab"
   ]
  },
  {
   "cell_type": "code",
   "execution_count": 10,
   "id": "f57abf64",
   "metadata": {},
   "outputs": [],
   "source": [
    "sasi1 = \"this\\tis\\tMy\\tFirst\\tPython\\tprogramming\\tclass\\tand\\tiam\\tlearNING\\tpython\\tstring\\tand\\tits\\tfunction\""
   ]
  },
  {
   "cell_type": "code",
   "execution_count": 11,
   "id": "d0a92647",
   "metadata": {},
   "outputs": [
    {
     "data": {
      "text/plain": [
       "'this is My First Python programming class and iam learNING python string and its function'"
      ]
     },
     "execution_count": 11,
     "metadata": {},
     "output_type": "execute_result"
    }
   ],
   "source": [
    "sasi1.expandtabs(tabsize=1)"
   ]
  },
  {
   "cell_type": "code",
   "execution_count": 12,
   "id": "c4d6f3e5",
   "metadata": {},
   "outputs": [
    {
     "data": {
      "text/plain": [
       "'this      is        My        First     Python    programming         class     and       iam       learNING  python    string    and       its       function'"
      ]
     },
     "execution_count": 12,
     "metadata": {},
     "output_type": "execute_result"
    }
   ],
   "source": [
    "sasi1.expandtabs(10)"
   ]
  },
  {
   "cell_type": "markdown",
   "id": "4e2d79ea",
   "metadata": {},
   "source": [
    "The complex nature of the work leave the programmers to identify a different functions to modify the Data and the Data which Data Scientist deal is not a linear one but an uncoherent so the expandtabs would give to beautify with spacing with an option of customized spacing."
   ]
  },
  {
   "cell_type": "markdown",
   "id": "1a6978fc",
   "metadata": {},
   "source": [
    "8.Give an example of strip , lstrip and rstrip "
   ]
  },
  {
   "cell_type": "code",
   "execution_count": 13,
   "id": "69d77b4e",
   "metadata": {},
   "outputs": [],
   "source": [
    "sastrip = \"      i am learning Python programming      \""
   ]
  },
  {
   "cell_type": "code",
   "execution_count": 14,
   "id": "daa52542",
   "metadata": {},
   "outputs": [
    {
     "data": {
      "text/plain": [
       "'i am learning Python programming'"
      ]
     },
     "execution_count": 14,
     "metadata": {},
     "output_type": "execute_result"
    }
   ],
   "source": [
    "sastrip.strip()"
   ]
  },
  {
   "cell_type": "code",
   "execution_count": 15,
   "id": "a596d91b",
   "metadata": {},
   "outputs": [
    {
     "data": {
      "text/plain": [
       "'      i am learning Python programming'"
      ]
     },
     "execution_count": 15,
     "metadata": {},
     "output_type": "execute_result"
    }
   ],
   "source": [
    "sastrip.rstrip()"
   ]
  },
  {
   "cell_type": "code",
   "execution_count": 16,
   "id": "36d7e499",
   "metadata": {},
   "outputs": [
    {
     "data": {
      "text/plain": [
       "'i am learning Python programming      '"
      ]
     },
     "execution_count": 16,
     "metadata": {},
     "output_type": "execute_result"
    }
   ],
   "source": [
    "sastrip.lstrip()"
   ]
  },
  {
   "cell_type": "markdown",
   "id": "7701b4ff",
   "metadata": {},
   "source": [
    "The python strip is used for removing the whitespaces in given string and make it fixed as a perfect string \n",
    "and the rstrip used for make the string to align the right side of the string lstrip for left side alignment."
   ]
  },
  {
   "cell_type": "markdown",
   "id": "a471afef",
   "metadata": {},
   "source": [
    "9.Replace a string character  by another character by taking your own example.."
   ]
  },
  {
   "cell_type": "code",
   "execution_count": 17,
   "id": "dd0cdb05",
   "metadata": {},
   "outputs": [
    {
     "data": {
      "text/plain": [
       "'this is My First Python programming class and i am learNING python string and its function'"
      ]
     },
     "execution_count": 17,
     "metadata": {},
     "output_type": "execute_result"
    }
   ],
   "source": [
    "sasi"
   ]
  },
  {
   "cell_type": "code",
   "execution_count": 18,
   "id": "244f08dc",
   "metadata": {},
   "outputs": [
    {
     "data": {
      "text/plain": [
       "'this is My First C++ programming class and i am learNING python string and its function'"
      ]
     },
     "execution_count": 18,
     "metadata": {},
     "output_type": "execute_result"
    }
   ],
   "source": [
    "sasi.replace(\"Python\", \"C++\")"
   ]
  },
  {
   "cell_type": "code",
   "execution_count": 19,
   "id": "c7bc5603",
   "metadata": {},
   "outputs": [
    {
     "data": {
      "text/plain": [
       "'this is My First C++ programming class and i am learNING python string and its function'"
      ]
     },
     "execution_count": 19,
     "metadata": {},
     "output_type": "execute_result"
    }
   ],
   "source": [
    "sasi.replace(\"Python\",\"C++\")"
   ]
  },
  {
   "cell_type": "markdown",
   "id": "1be12a33",
   "metadata": {},
   "source": [
    "10.Try  to give a definition of string center function with and exmple "
   ]
  },
  {
   "cell_type": "code",
   "execution_count": 20,
   "id": "85dd0b61",
   "metadata": {},
   "outputs": [
    {
     "data": {
      "text/plain": [
       "'this is My First Python programming class and i am learNING python string and its function'"
      ]
     },
     "execution_count": 20,
     "metadata": {},
     "output_type": "execute_result"
    }
   ],
   "source": [
    "sasi.center(25,\"#\")"
   ]
  },
  {
   "cell_type": "code",
   "execution_count": 21,
   "id": "a61647a8",
   "metadata": {},
   "outputs": [],
   "source": [
    "s = \"Shashi\""
   ]
  },
  {
   "cell_type": "code",
   "execution_count": 22,
   "id": "5be8086a",
   "metadata": {},
   "outputs": [
    {
     "data": {
      "text/plain": [
       "'##########Shashi#########'"
      ]
     },
     "execution_count": 22,
     "metadata": {},
     "output_type": "execute_result"
    }
   ],
   "source": [
    "s.center(25,\"#\")"
   ]
  },
  {
   "cell_type": "markdown",
   "id": "08eaf4df",
   "metadata": {},
   "source": [
    "The string center function use for make string in a center position with decorating any given symbol or letter. "
   ]
  },
  {
   "cell_type": "markdown",
   "id": "36daa068",
   "metadata": {},
   "source": [
    "11.Write your own definition of compiler and Interpreter without copy paste form internet in your own language"
   ]
  },
  {
   "cell_type": "markdown",
   "id": "8f116ceb",
   "metadata": {},
   "source": [
    "The definition of these both terms must be looked from the etymological way, compile is something which amalgamate all the given data and convert into a langauge which machine could understand(the whole process done at a time), the other hand interpretation is expressing the given data by the line not everthing in a holistic. so programming languages are both types compilers and interpreters the nature of these two different by the function these both do. C,C++ are Compiled langauges...PhP,Ruby are example of Interpreter langauges.\n"
   ]
  },
  {
   "cell_type": "markdown",
   "id": "40a89087",
   "metadata": {},
   "source": [
    "12.Python is an interpreted of compiled language give a clear ans with your understanding?"
   ]
  },
  {
   "cell_type": "markdown",
   "id": "6f88ec4f",
   "metadata": {},
   "source": [
    "in case of Python, it is both compiler as well as interprter as per my readings and what will hapeen any piece of code is written in python which could be compiled into byte code then interpreted by the PVM (python virtual machine) into machine langauge...this is the labarious process but the feasible of portability the written code will be run in any CPU architecture without any hurdles...so python is both compiler and interpreter as well..."
   ]
  },
  {
   "cell_type": "markdown",
   "id": "78631251",
   "metadata": {},
   "source": [
    "13.Try to write a usecase of python with your understanding"
   ]
  },
  {
   "cell_type": "markdown",
   "id": "a9af1443",
   "metadata": {},
   "source": [
    "Python is one of the most popular programming language for various reasons. the simplicity and the effectiveness of it attracts\n",
    "many programmers to use. it doesnt mean that the simplicity only allure the peopleto use it...it is powerful too.\n",
    "1)the libraries in python are much effective to use for example pandas you can manipulate the data for Data cleaning and preprossing in much easier way.\n",
    "2)web development is one of the crucial domian for a long time python modules like Django and Flask makes the work easier and powerful compare to other competitive platforms."
   ]
  }
 ],
 "metadata": {
  "kernelspec": {
   "display_name": "Python 3 (ipykernel)",
   "language": "python",
   "name": "python3"
  },
  "language_info": {
   "codemirror_mode": {
    "name": "ipython",
    "version": 3
   },
   "file_extension": ".py",
   "mimetype": "text/x-python",
   "name": "python",
   "nbconvert_exporter": "python",
   "pygments_lexer": "ipython3",
   "version": "3.9.7"
  }
 },
 "nbformat": 4,
 "nbformat_minor": 5
}
