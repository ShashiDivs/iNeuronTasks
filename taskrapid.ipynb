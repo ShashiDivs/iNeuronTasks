{
 "cells": [
  {
   "cell_type": "code",
   "execution_count": 1,
   "id": "22f20930",
   "metadata": {},
   "outputs": [],
   "source": [
    "import pandas as pd"
   ]
  },
  {
   "cell_type": "code",
   "execution_count": 2,
   "id": "330cde78",
   "metadata": {},
   "outputs": [],
   "source": [
    "df = pd.read_excel(\"Agent_Login_Report.xls\")"
   ]
  },
  {
   "cell_type": "code",
   "execution_count": 104,
   "id": "dedf91b0",
   "metadata": {},
   "outputs": [],
   "source": [
    "#df['Date']=pd.to_datetime(df['Date'])\n",
    "#df['Logout Time']=pd.to_datetime(df['Logout Time'])\n",
    "#df['Login Time']=pd.to_datetime(df['Login Time'])\n",
    "#df['Duration']=pd.to_datetime(df['Duration'],errors='coerce')"
   ]
  },
  {
   "cell_type": "code",
   "execution_count": 159,
   "id": "05d8144d",
   "metadata": {},
   "outputs": [],
   "source": [
    "import datetime\n",
    "dfp['Week']=pd.to_datetime(dfp['Date']).dt.isocalendar().week\n",
    "dfp['Average Response Time'] = pd.to_datetime(dfp['Average Response Time'],infer_datetime_format=True)\n",
    "dfp['Average Resolution Time'] = pd.to_datetime(dfp['Average Resolution Time'],infer_datetime_format=True)"
   ]
  },
  {
   "cell_type": "markdown",
   "id": "ec498356",
   "metadata": {},
   "source": [
    "1.Find out there avarage rating on weekly basis keep this in a mind that they take two days of leave"
   ]
  },
  {
   "cell_type": "code",
   "execution_count": 134,
   "id": "c06349cd",
   "metadata": {},
   "outputs": [
    {
     "data": {
      "text/plain": [
       "Agent Name           Week\n",
       "Aditya Shinde        26      3.850000\n",
       "                     27      4.516000\n",
       "                     28      4.746000\n",
       "Aditya_iot           27      4.315000\n",
       "                     28      4.100000\n",
       "                     29      4.360000\n",
       "                     30      3.886000\n",
       "Ameya Jain           27      4.000000\n",
       "                     28      4.256000\n",
       "                     29      4.464000\n",
       "                     30      4.747500\n",
       "Anirudh              27      2.224000\n",
       "                     28      4.115000\n",
       "Ankitjha             27      5.000000\n",
       "                     30      1.500000\n",
       "Anurag Tiwari        27      2.750000\n",
       "Aravind              27      4.867500\n",
       "                     28      4.598000\n",
       "                     29      4.596000\n",
       "Ashad Nasim          27      2.500000\n",
       "Ayushi Mishra        26      4.330000\n",
       "                     27      4.512000\n",
       "                     28      4.084000\n",
       "                     29      4.250000\n",
       "                     30      4.614000\n",
       "Bharath              26      4.835000\n",
       "                     27      4.552000\n",
       "                     28      4.663333\n",
       "                     29      4.756000\n",
       "                     30      4.827500\n",
       "Boktiar Ahmed Bappy  26      4.720000\n",
       "                     27      4.610000\n",
       "                     28      4.462500\n",
       "                     29      3.792857\n",
       "                     30      3.470000\n",
       "Chaitra K Hiremath   30      4.188000\n",
       "Deepranjan Gupta     26      4.230000\n",
       "                     27      4.220000\n",
       "                     28      4.587500\n",
       "                     30      4.615000\n",
       "Dibyanshu            27      0.000000\n",
       "Harikrishnan Shaji   27      3.135000\n",
       "                     28      4.530000\n",
       "                     29      4.480000\n",
       "                     30      4.320000\n",
       "Hrisikesh Neogi      26      4.370000\n",
       "                     27      4.668000\n",
       "                     28      4.442000\n",
       "                     29      4.608000\n",
       "                     30      4.190000\n",
       "Name: Average Rating, dtype: float64"
      ]
     },
     "execution_count": 134,
     "metadata": {},
     "output_type": "execute_result"
    }
   ],
   "source": [
    "dfp[dfp['Total Chats']>0][['Agent Name','Average Rating','Date','Week']].groupby(['Agent Name', 'Week'])['Average Rating'].mean().drop_duplicates().head(50)"
   ]
  },
  {
   "cell_type": "code",
   "execution_count": 122,
   "id": "bf311db9",
   "metadata": {},
   "outputs": [],
   "source": [
    "dfp = pd.read_excel(\"AgentPerformance.xlsx\",engine='openpyxl')"
   ]
  },
  {
   "cell_type": "markdown",
   "id": "0482ada7",
   "metadata": {},
   "source": [
    "2.Total working days for each agents "
   ]
  },
  {
   "cell_type": "code",
   "execution_count": 75,
   "id": "fceefea4",
   "metadata": {},
   "outputs": [
    {
     "data": {
      "text/plain": [
       "Agent Name            \n",
       "Shivananda Sonwane        28\n",
       "Khushboo Priya            26\n",
       "Boktiar Ahmed Bappy       26\n",
       "Manjunatha A              25\n",
       "Jawala Prakash            25\n",
       "Ayushi Mishra             24\n",
       "Madhulika G               24\n",
       "Ishawant Kumar            24\n",
       "Sanjeev Kumar             23\n",
       "Nishtha Jain              23\n",
       "Shivan K                  22\n",
       "Prerna Singh              22\n",
       "Shubham Sharma            21\n",
       "Jaydeep Dixit             21\n",
       "Rishav Dash               21\n",
       "Deepranjan Gupta          21\n",
       "Nandani Gupta             21\n",
       "Hrisikesh Neogi           21\n",
       "Maitry                    20\n",
       "Harikrishnan Shaji        19\n",
       "Bharath                   19\n",
       "Mahesh Sarade             18\n",
       "Mithun S                  18\n",
       "Prabir Kumar Satapathy    17\n",
       "Prateek _iot              17\n",
       "Aditya_iot                17\n",
       "Swati                     17\n",
       "Wasim                     16\n",
       "Zeeshan                   16\n",
       "Ameya Jain                15\n",
       "Aravind                   14\n",
       "Saikumarreddy N           13\n",
       "Aditya Shinde             12\n",
       "Sowmiya Sivakumar          9\n",
       "Jayant Kumar               8\n",
       "Shiva Srivastava           7\n",
       "Anirudh                    7\n",
       "Chaitra K Hiremath         6\n",
       "Muskan Garg                5\n",
       "Vivek                      5\n",
       "Saurabh Shukla             4\n",
       "Mukesh Rao                 3\n",
       "Sandipan Saha              3\n",
       "Ankitjha                   3\n",
       "Maneesh                    3\n",
       "Ashad Nasim                2\n",
       "Anurag Tiwari              2\n",
       "Sudhanshu Kumar            2\n",
       "Suraj S Bilgi              2\n",
       "Mukesh                     2\n",
       "Samprit                    1\n",
       "Shivan_S                   1\n",
       "Dibyanshu                  1\n",
       "Hitesh Choudhary           1\n",
       "Tarun                      1\n",
       "Mahak                      1\n",
       "dtype: int64"
      ]
     },
     "execution_count": 75,
     "metadata": {},
     "output_type": "execute_result"
    }
   ],
   "source": [
    "dfp[dfp['Total Chats']>0][['Agent Name']].value_counts()"
   ]
  },
  {
   "cell_type": "markdown",
   "id": "cea9a2a3",
   "metadata": {},
   "source": [
    "3.Total query that you hvae taken "
   ]
  },
  {
   "cell_type": "code",
   "execution_count": 67,
   "id": "e1a88267",
   "metadata": {},
   "outputs": [
    {
     "data": {
      "text/plain": [
       "Agent Name\n",
       "Aditya Shinde             277\n",
       "Aditya_iot                231\n",
       "Ameya Jain                322\n",
       "Anirudh                    81\n",
       "Ankitjha                    5\n",
       "Anurag Tiwari               4\n",
       "Aravind                   366\n",
       "Ashad Nasim                18\n",
       "Ayushi Mishra             514\n",
       "Bharath                   369\n",
       "Boktiar Ahmed Bappy       452\n",
       "Chaitra K Hiremath         64\n",
       "Deepranjan Gupta          493\n",
       "Dibyanshu                   1\n",
       "Harikrishnan Shaji        381\n",
       "Hitesh Choudhary            1\n",
       "Hrisikesh Neogi           578\n",
       "Ishawant Kumar            338\n",
       "Jawala Prakash            439\n",
       "Jayant Kumar              127\n",
       "Jaydeep Dixit             512\n",
       "Khushboo Priya            446\n",
       "Madhulika G               469\n",
       "Mahak                       7\n",
       "Mahesh Sarade             364\n",
       "Maitry                    542\n",
       "Maneesh                     4\n",
       "Manjunatha A              413\n",
       "Mithun S                  503\n",
       "Mukesh                     19\n",
       "Mukesh Rao                  5\n",
       "Muskan Garg                56\n",
       "Nandani Gupta             560\n",
       "Nishtha Jain              373\n",
       "Prabir Kumar Satapathy    299\n",
       "Prateek _iot              190\n",
       "Prerna Singh              401\n",
       "Rishav Dash               409\n",
       "Saikumarreddy N           364\n",
       "Samprit                     1\n",
       "Sandipan Saha              30\n",
       "Sanjeev Kumar             507\n",
       "Saurabh Shukla             16\n",
       "Shiva Srivastava           53\n",
       "Shivan K                  357\n",
       "Shivan_S                    7\n",
       "Shivananda Sonwane        441\n",
       "Shubham Sharma            510\n",
       "Sowmiya Sivakumar         206\n",
       "Sudhanshu Kumar             2\n",
       "Suraj S Bilgi              28\n",
       "Swati                     524\n",
       "Tarun                      22\n",
       "Vivek                      44\n",
       "Wasim                     433\n",
       "Zeeshan                   542\n",
       "Name: Total Chats, dtype: int64"
      ]
     },
     "execution_count": 67,
     "metadata": {},
     "output_type": "execute_result"
    }
   ],
   "source": [
    "dfp[dfp['Total Chats']>0].groupby('Agent Name')['Total Chats'].agg(sum)"
   ]
  },
  {
   "cell_type": "markdown",
   "id": "71fefb37",
   "metadata": {},
   "source": [
    " 4. how many feedaback agents have received more then 4.5 average"
   ]
  },
  {
   "cell_type": "code",
   "execution_count": 64,
   "id": "61bd6b7d",
   "metadata": {},
   "outputs": [
    {
     "data": {
      "text/plain": [
       "Agent Name\n",
       "Aditya Shinde             153\n",
       "Aditya_iot                131\n",
       "Ameya Jain                228\n",
       "Anirudh                    39\n",
       "Ankitjha                    3\n",
       "Anurag Tiwari               3\n",
       "Aravind                   233\n",
       "Ashad Nasim                 9\n",
       "Ayushi Mishra             329\n",
       "Bharath                   247\n",
       "Boktiar Ahmed Bappy       311\n",
       "Chaitra K Hiremath         37\n",
       "Deepranjan Gupta          312\n",
       "Dibyanshu                   0\n",
       "Harikrishnan Shaji        231\n",
       "Hitesh Choudhary            0\n",
       "Hrisikesh Neogi           367\n",
       "Ishawant Kumar            202\n",
       "Jawala Prakash            250\n",
       "Jayant Kumar               70\n",
       "Jaydeep Dixit             305\n",
       "Khushboo Priya            289\n",
       "Madhulika G               281\n",
       "Mahak                       5\n",
       "Mahesh Sarade             216\n",
       "Maitry                    347\n",
       "Maneesh                     3\n",
       "Manjunatha A              254\n",
       "Mithun S                  364\n",
       "Mukesh                     17\n",
       "Mukesh Rao                  5\n",
       "Muskan Garg                37\n",
       "Nandani Gupta             308\n",
       "Nishtha Jain              257\n",
       "Prabir Kumar Satapathy    222\n",
       "Prateek _iot              107\n",
       "Prerna Singh              235\n",
       "Rishav Dash               264\n",
       "Saikumarreddy N           290\n",
       "Samprit                     0\n",
       "Sandipan Saha              18\n",
       "Sanjeev Kumar             311\n",
       "Saurabh Shukla              8\n",
       "Shiva Srivastava           46\n",
       "Shivan K                  243\n",
       "Shivan_S                    4\n",
       "Shivananda Sonwane        263\n",
       "Shubham Sharma            300\n",
       "Sowmiya Sivakumar         141\n",
       "Sudhanshu Kumar             2\n",
       "Suraj S Bilgi              15\n",
       "Swati                     302\n",
       "Tarun                       6\n",
       "Vivek                      20\n",
       "Wasim                     284\n",
       "Zeeshan                   335\n",
       "Name: Total Feedback, dtype: int64"
      ]
     },
     "execution_count": 64,
     "metadata": {},
     "output_type": "execute_result"
    }
   ],
   "source": [
    "#dfp.loc[:,['Agent Name','Total Chats']].value_counts()\n",
    "dfp[dfp['Total Chats']>0].groupby('Agent Name')['Total Feedback'].agg(sum)"
   ]
  },
  {
   "cell_type": "markdown",
   "id": "122c81e5",
   "metadata": {},
   "source": [
    "5.a agent name who have average rating between 3.5 to 4.5"
   ]
  },
  {
   "cell_type": "code",
   "execution_count": 101,
   "id": "927b78b0",
   "metadata": {},
   "outputs": [
    {
     "data": {
      "text/plain": [
       "67         Boktiar Ahmed Bappy\n",
       "75                 Muskan Garg\n",
       "76               Prateek _iot \n",
       "85          Chaitra K Hiremath\n",
       "86               Suraj S Bilgi\n",
       "213         Shivananda Sonwane\n",
       "428                    Maitry \n",
       "574             Jawala Prakash\n",
       "859             Ishawant Kumar\n",
       "863           Deepranjan Gupta\n",
       "1079              Nishtha Jain\n",
       "1080             Sandipan Saha\n",
       "1081            Khushboo Priya\n",
       "1241             Mahesh Sarade\n",
       "1247    Prabir Kumar Satapathy\n",
       "1308              Prerna Singh\n",
       "1604             Jaydeep Dixit\n",
       "1725              Jayant Kumar\n",
       "1732                 Shivan_S \n",
       "2087              Manjunatha A\n",
       "Name: Agent Name, dtype: object"
      ]
     },
     "execution_count": 101,
     "metadata": {},
     "output_type": "execute_result"
    }
   ],
   "source": [
    "dfp[(dfp['Total Feedback']>3.5) & (dfp['Total Feedback']<4.5)]['Agent Name'].drop_duplicates()"
   ]
  },
  {
   "cell_type": "markdown",
   "id": "d33b299b",
   "metadata": {},
   "source": [
    "6.Agent name who have rating lesss then 3.5 "
   ]
  },
  {
   "cell_type": "code",
   "execution_count": 58,
   "id": "a32cc5a4",
   "metadata": {},
   "outputs": [
    {
     "data": {
      "text/plain": [
       "1             Nandani Gupta\n",
       "19         Hitesh Choudhary\n",
       "20               Sanjeevan \n",
       "21                 Anirudh \n",
       "22         Shiva Srivastava\n",
       "               ...         \n",
       "210             Madhulika G\n",
       "215     Boktiar Ahmed Bappy\n",
       "538        Deepranjan Gupta\n",
       "644          Ishawant Kumar\n",
       "1180     Shivananda Sonwane\n",
       "Name: Agent Name, Length: 70, dtype: object"
      ]
     },
     "execution_count": 58,
     "metadata": {},
     "output_type": "execute_result"
    }
   ],
   "source": [
    "dfp[dfp['Average Rating'] < 3.5]['Agent Name'].drop_duplicates()"
   ]
  },
  {
   "cell_type": "markdown",
   "id": "38d8686d",
   "metadata": {},
   "source": [
    "7.agent name who have rating more then 4.5"
   ]
  },
  {
   "cell_type": "code",
   "execution_count": 95,
   "id": "7a2e28f1",
   "metadata": {},
   "outputs": [
    {
     "data": {
      "text/plain": [
       "Agent Name\n",
       "Aditya Shinde             153\n",
       "Aditya_iot                123\n",
       "Ameya Jain                227\n",
       "Anirudh                    34\n",
       "Aravind                   232\n",
       "Ashad Nasim                 7\n",
       "Ayushi Mishra             324\n",
       "Bharath                   247\n",
       "Boktiar Ahmed Bappy       297\n",
       "Chaitra K Hiremath         32\n",
       "Deepranjan Gupta          301\n",
       "Harikrishnan Shaji        230\n",
       "Hrisikesh Neogi           367\n",
       "Ishawant Kumar            182\n",
       "Jawala Prakash            236\n",
       "Jayant Kumar               59\n",
       "Jaydeep Dixit             301\n",
       "Khushboo Priya            277\n",
       "Madhulika G               270\n",
       "Mahak                       5\n",
       "Mahesh Sarade             208\n",
       "Maitry                    341\n",
       "Manjunatha A              244\n",
       "Mithun S                  362\n",
       "Mukesh                     17\n",
       "Muskan Garg                31\n",
       "Nandani Gupta             308\n",
       "Nishtha Jain              239\n",
       "Prabir Kumar Satapathy    207\n",
       "Prateek _iot               96\n",
       "Prerna Singh              224\n",
       "Rishav Dash               264\n",
       "Saikumarreddy N           290\n",
       "Sandipan Saha              13\n",
       "Sanjeev Kumar             309\n",
       "Shiva Srivastava           44\n",
       "Shivan K                  239\n",
       "Shivananda Sonwane        245\n",
       "Shubham Sharma            300\n",
       "Sowmiya Sivakumar         141\n",
       "Suraj S Bilgi              11\n",
       "Swati                     302\n",
       "Tarun                       6\n",
       "Vivek                      12\n",
       "Wasim                     284\n",
       "Zeeshan                   335\n",
       "Name: Total Feedback, dtype: int64"
      ]
     },
     "execution_count": 95,
     "metadata": {},
     "output_type": "execute_result"
    }
   ],
   "source": [
    "dfp[dfp['Total Feedback'] > 4.5].groupby('Agent Name')['Total Feedback'].agg(sum)"
   ]
  },
  {
   "cell_type": "markdown",
   "id": "4719d68c",
   "metadata": {},
   "source": [
    "8.how many feedaback agents have received more then 4.5 average"
   ]
  },
  {
   "cell_type": "code",
   "execution_count": 63,
   "id": "ec1123ce",
   "metadata": {},
   "outputs": [
    {
     "data": {
      "text/plain": [
       "Agent Name\n",
       "Aditya Shinde              73\n",
       "Aditya_iot                 43\n",
       "Ameya Jain                150\n",
       "Anirudh                     2\n",
       "Ankitjha                    1\n",
       "Aravind                   178\n",
       "Ayushi Mishra              75\n",
       "Bharath                   231\n",
       "Boktiar Ahmed Bappy        52\n",
       "Chaitra K Hiremath          5\n",
       "Deepranjan Gupta           83\n",
       "Harikrishnan Shaji         80\n",
       "Hrisikesh Neogi           183\n",
       "Ishawant Kumar             79\n",
       "Jawala Prakash             33\n",
       "Jayant Kumar                7\n",
       "Jaydeep Dixit             179\n",
       "Khushboo Priya            134\n",
       "Madhulika G                67\n",
       "Mahesh Sarade              46\n",
       "Maitry                     81\n",
       "Manjunatha A              132\n",
       "Mithun S                   93\n",
       "Mukesh                     17\n",
       "Mukesh Rao                  1\n",
       "Muskan Garg                14\n",
       "Nandani Gupta              91\n",
       "Nishtha Jain               18\n",
       "Prabir Kumar Satapathy     53\n",
       "Prateek _iot               54\n",
       "Prerna Singh               82\n",
       "Rishav Dash                27\n",
       "Saikumarreddy N           184\n",
       "Sandipan Saha               1\n",
       "Sanjeev Kumar             164\n",
       "Saurabh Shukla              3\n",
       "Shiva Srivastava            2\n",
       "Shivan K                  130\n",
       "Shivananda Sonwane        154\n",
       "Shubham Sharma            155\n",
       "Sowmiya Sivakumar          16\n",
       "Sudhanshu Kumar             2\n",
       "Suraj S Bilgi               4\n",
       "Swati                     103\n",
       "Vivek                       3\n",
       "Wasim                     156\n",
       "Zeeshan                    48\n",
       "Name: Total Feedback, dtype: int64"
      ]
     },
     "execution_count": 63,
     "metadata": {},
     "output_type": "execute_result"
    }
   ],
   "source": [
    "dfp[(dfp['Average Rating'] > 4.5)].groupby('Agent Name')['Total Feedback'].agg(sum)"
   ]
  },
  {
   "cell_type": "markdown",
   "id": "d7bb606a",
   "metadata": {},
   "source": [
    "9.average weekly response time for each agent "
   ]
  },
  {
   "cell_type": "code",
   "execution_count": 156,
   "id": "733dc0ad",
   "metadata": {},
   "outputs": [
    {
     "data": {
      "text/plain": [
       "Agent Name     Week\n",
       "Aditya Shinde  26     2022-07-31 00:01:23.000000000\n",
       "               27     2022-07-31 00:01:06.200000000\n",
       "               28     2022-07-31 00:01:19.000000000\n",
       "Aditya_iot     27     2022-07-31 00:01:10.500000000\n",
       "               28     2022-07-31 00:01:12.800000000\n",
       "               29     2022-07-31 00:00:42.200000000\n",
       "               30     2022-07-31 00:01:00.600000000\n",
       "Ameya Jain     27     2022-07-31 00:00:00.000000000\n",
       "               28     2022-07-31 00:00:45.600000000\n",
       "               29     2022-07-31 00:00:41.600000000\n",
       "               30     2022-07-31 00:00:49.500000000\n",
       "Anirudh        27     2022-07-31 00:01:48.400000000\n",
       "               28     2022-07-31 00:00:55.500000000\n",
       "Ankitjha       27     2022-07-31 00:00:00.000000000\n",
       "               30     2022-07-31 00:01:06.500000000\n",
       "Anurag Tiwari  27     2022-07-31 00:02:06.500000000\n",
       "Aravind        27     2022-07-31 00:00:36.750000128\n",
       "               28     2022-07-31 00:00:47.800000000\n",
       "               29     2022-07-31 00:00:51.000000000\n",
       "Ashad Nasim    27     2022-07-31 00:09:39.500000000\n",
       "Name: Average Response Time, dtype: datetime64[ns]"
      ]
     },
     "execution_count": 156,
     "metadata": {},
     "output_type": "execute_result"
    }
   ],
   "source": [
    "dfp[dfp['Total Chats']>0].groupby(['Agent Name','Week'])['Average Response Time'].mean().head(20)"
   ]
  },
  {
   "cell_type": "markdown",
   "id": "ed819fa8",
   "metadata": {},
   "source": [
    "10 . average weekely resolution time for each agents "
   ]
  },
  {
   "cell_type": "code",
   "execution_count": 160,
   "id": "550b1d81",
   "metadata": {},
   "outputs": [
    {
     "data": {
      "text/plain": [
       "Agent Name     Week\n",
       "Aditya Shinde  26     2022-07-31 00:23:10.500000000\n",
       "               27     2022-07-31 00:21:05.400000000\n",
       "               28     2022-07-31 00:31:42.200000000\n",
       "Aditya_iot     27     2022-07-31 00:18:04.500000000\n",
       "               28     2022-07-31 00:21:15.400000000\n",
       "               29     2022-07-31 00:15:41.000000000\n",
       "               30     2022-07-31 00:14:45.600000000\n",
       "Ameya Jain     27     2022-07-31 00:01:47.000000000\n",
       "               28     2022-07-31 00:11:17.200000000\n",
       "               29     2022-07-31 00:11:37.000000000\n",
       "               30     2022-07-31 00:11:59.249999872\n",
       "Anirudh        27     2022-07-31 00:11:23.000000000\n",
       "               28     2022-07-31 00:17:54.500000000\n",
       "Ankitjha       27     2022-07-31 00:21:22.000000000\n",
       "               30     2022-07-31 00:02:56.000000000\n",
       "Anurag Tiwari  27     2022-07-31 00:18:29.000000000\n",
       "Aravind        27     2022-07-31 00:18:09.000000000\n",
       "               28     2022-07-31 00:20:11.600000000\n",
       "               29     2022-07-31 00:18:50.600000000\n",
       "Ashad Nasim    27     2022-07-31 00:05:14.000000000\n",
       "Name: Average Resolution Time, dtype: datetime64[ns]"
      ]
     },
     "execution_count": 160,
     "metadata": {},
     "output_type": "execute_result"
    }
   ],
   "source": [
    "dfp[dfp['Total Chats']>0].groupby(['Agent Name','Week'])['Average Resolution Time'].mean().head(20)"
   ]
  },
  {
   "cell_type": "markdown",
   "id": "df090d7d",
   "metadata": {},
   "source": [
    "11.list of all agents name"
   ]
  },
  {
   "cell_type": "code",
   "execution_count": 79,
   "id": "f26499f7",
   "metadata": {},
   "outputs": [
    {
     "data": {
      "text/plain": [
       "0          Shivananda Sonwane\n",
       "1              Khushboo Priya\n",
       "2               Nandani Gupta\n",
       "3             Hrisikesh Neogi\n",
       "4                     Mukesh \n",
       "5           Sowmiya Sivakumar\n",
       "6                Manjunatha A\n",
       "7          Harikrishnan Shaji\n",
       "8               Suraj S Bilgi\n",
       "9                    Shivan K\n",
       "10              Anurag Tiwari\n",
       "11             Ishawant Kumar\n",
       "13             Shubham Sharma\n",
       "15               Prerna Singh\n",
       "20               Nishtha Jain\n",
       "21              Prateek _iot \n",
       "27                   Mithun S\n",
       "32                Madhulika G\n",
       "33        Boktiar Ahmed Bappy\n",
       "34             Jawala Prakash\n",
       "35                 Dibyanshu \n",
       "48           Deepranjan Gupta\n",
       "50              Jaydeep Dixit\n",
       "54              Ayushi Mishra\n",
       "55              Mahesh Sarade\n",
       "56                Muskan Garg\n",
       "58         Chaitra K Hiremath\n",
       "61           Shiva Srivastava\n",
       "72                Aditya_iot \n",
       "82     Prabir Kumar Satapathy\n",
       "93              Sanjeev Kumar\n",
       "96                   Zeeshan \n",
       "128               Rishav Dash\n",
       "130                    Wasim \n",
       "131                  Bharath \n",
       "201                Ameya Jain\n",
       "202           Saikumarreddy N\n",
       "209                  Aravind \n",
       "216                   Amersh \n",
       "316           Sudhanshu Kumar\n",
       "331                 Ankitjha \n",
       "400                   Maitry \n",
       "402             Aditya Shinde\n",
       "481               Hyder Abbas\n",
       "514                    Swati \n",
       "695            Saurabh Shukla\n",
       "764                   Nitin M\n",
       "986     Ineuron Intelligence \n",
       "999                    Tarun \n",
       "Name: Agent, dtype: object"
      ]
     },
     "execution_count": 79,
     "metadata": {},
     "output_type": "execute_result"
    }
   ],
   "source": [
    "df.Agent.drop_duplicates()"
   ]
  },
  {
   "cell_type": "markdown",
   "id": "ffdd6f60",
   "metadata": {},
   "source": [
    "11.list of all agents name from the second"
   ]
  },
  {
   "cell_type": "code",
   "execution_count": 85,
   "id": "d506f247",
   "metadata": {},
   "outputs": [
    {
     "data": {
      "text/plain": [
       "0            Prerna Singh\n",
       "1           Nandani Gupta\n",
       "2              Ameya Jain\n",
       "3           Mahesh Sarade\n",
       "4                  Swati \n",
       "             ...         \n",
       "67    Boktiar Ahmed Bappy\n",
       "68     Shivananda Sonwane\n",
       "69         Ishawant Kumar\n",
       "70       Deepranjan Gupta\n",
       "71         Jawala Prakash\n",
       "Name: Agents, Length: 70, dtype: object"
      ]
     },
     "execution_count": 85,
     "metadata": {},
     "output_type": "execute_result"
    }
   ],
   "source": [
    "#dfp['Agents'] = dfp['Agent Name']\n",
    "dfp.Agents.drop_duplicates()"
   ]
  },
  {
   "cell_type": "markdown",
   "id": "1f490722",
   "metadata": {},
   "source": [
    "12.percentage of chat on which they have received a feedback "
   ]
  },
  {
   "cell_type": "code",
   "execution_count": 166,
   "id": "682ae10a",
   "metadata": {},
   "outputs": [],
   "source": [
    "dfp['Cumulative_Total_Chats'] = dfp['Total Chats']/dfp['Total Chats'].sum()\n"
   ]
  },
  {
   "cell_type": "code",
   "execution_count": 173,
   "id": "f052b62a",
   "metadata": {},
   "outputs": [
    {
     "data": {
      "text/html": [
       "<div>\n",
       "<style scoped>\n",
       "    .dataframe tbody tr th:only-of-type {\n",
       "        vertical-align: middle;\n",
       "    }\n",
       "\n",
       "    .dataframe tbody tr th {\n",
       "        vertical-align: top;\n",
       "    }\n",
       "\n",
       "    .dataframe thead th {\n",
       "        text-align: right;\n",
       "    }\n",
       "</style>\n",
       "<table border=\"1\" class=\"dataframe\">\n",
       "  <thead>\n",
       "    <tr style=\"text-align: right;\">\n",
       "      <th></th>\n",
       "      <th>Agent Name</th>\n",
       "      <th>Total Chats</th>\n",
       "      <th>Cumulative_Total_Chats</th>\n",
       "      <th>Total Feedback</th>\n",
       "    </tr>\n",
       "  </thead>\n",
       "  <tbody>\n",
       "    <tr>\n",
       "      <th>0</th>\n",
       "      <td>Prerna Singh</td>\n",
       "      <td>11</td>\n",
       "      <td>0.000747</td>\n",
       "      <td>9</td>\n",
       "    </tr>\n",
       "    <tr>\n",
       "      <th>1</th>\n",
       "      <td>Nandani Gupta</td>\n",
       "      <td>11</td>\n",
       "      <td>0.000747</td>\n",
       "      <td>7</td>\n",
       "    </tr>\n",
       "    <tr>\n",
       "      <th>2</th>\n",
       "      <td>Ameya Jain</td>\n",
       "      <td>14</td>\n",
       "      <td>0.000951</td>\n",
       "      <td>11</td>\n",
       "    </tr>\n",
       "    <tr>\n",
       "      <th>3</th>\n",
       "      <td>Mahesh Sarade</td>\n",
       "      <td>14</td>\n",
       "      <td>0.000951</td>\n",
       "      <td>7</td>\n",
       "    </tr>\n",
       "    <tr>\n",
       "      <th>4</th>\n",
       "      <td>Swati</td>\n",
       "      <td>14</td>\n",
       "      <td>0.000951</td>\n",
       "      <td>6</td>\n",
       "    </tr>\n",
       "    <tr>\n",
       "      <th>...</th>\n",
       "      <td>...</td>\n",
       "      <td>...</td>\n",
       "      <td>...</td>\n",
       "      <td>...</td>\n",
       "    </tr>\n",
       "    <tr>\n",
       "      <th>2101</th>\n",
       "      <td>Jaydeep Dixit</td>\n",
       "      <td>25</td>\n",
       "      <td>0.001698</td>\n",
       "      <td>13</td>\n",
       "    </tr>\n",
       "    <tr>\n",
       "      <th>2102</th>\n",
       "      <td>Shivananda Sonwane</td>\n",
       "      <td>23</td>\n",
       "      <td>0.001563</td>\n",
       "      <td>14</td>\n",
       "    </tr>\n",
       "    <tr>\n",
       "      <th>2103</th>\n",
       "      <td>Khushboo Priya</td>\n",
       "      <td>24</td>\n",
       "      <td>0.001630</td>\n",
       "      <td>18</td>\n",
       "    </tr>\n",
       "    <tr>\n",
       "      <th>2104</th>\n",
       "      <td>Hrisikesh Neogi</td>\n",
       "      <td>15</td>\n",
       "      <td>0.001019</td>\n",
       "      <td>9</td>\n",
       "    </tr>\n",
       "    <tr>\n",
       "      <th>2105</th>\n",
       "      <td>Tarun</td>\n",
       "      <td>22</td>\n",
       "      <td>0.001495</td>\n",
       "      <td>6</td>\n",
       "    </tr>\n",
       "  </tbody>\n",
       "</table>\n",
       "<p>731 rows × 4 columns</p>\n",
       "</div>"
      ],
      "text/plain": [
       "              Agent Name  Total Chats  Cumulative_Total_Chats  Total Feedback\n",
       "0           Prerna Singh           11                0.000747               9\n",
       "1          Nandani Gupta           11                0.000747               7\n",
       "2             Ameya Jain           14                0.000951              11\n",
       "3          Mahesh Sarade           14                0.000951               7\n",
       "4                 Swati            14                0.000951               6\n",
       "...                  ...          ...                     ...             ...\n",
       "2101       Jaydeep Dixit           25                0.001698              13\n",
       "2102  Shivananda Sonwane           23                0.001563              14\n",
       "2103      Khushboo Priya           24                0.001630              18\n",
       "2104     Hrisikesh Neogi           15                0.001019               9\n",
       "2105              Tarun            22                0.001495               6\n",
       "\n",
       "[731 rows x 4 columns]"
      ]
     },
     "execution_count": 173,
     "metadata": {},
     "output_type": "execute_result"
    }
   ],
   "source": [
    "dfp[dfp['Total Feedback']>0][['Agent Name','Total Chats', 'Cumulative_Total_Chats','Total Feedback']]"
   ]
  },
  {
   "cell_type": "markdown",
   "id": "7bba0190",
   "metadata": {},
   "source": [
    "13.Total contributation hour for each and every agents weekly basis"
   ]
  },
  {
   "cell_type": "code",
   "execution_count": 180,
   "id": "00378d0b",
   "metadata": {},
   "outputs": [],
   "source": [
    "import datetime\n",
    "df['Week']=pd.to_datetime(df['Date']).dt.isocalendar().week\n",
    "df['Duration']=pd.to_datetime(df['Duration'],errors='coerce')"
   ]
  },
  {
   "cell_type": "code",
   "execution_count": 183,
   "id": "6e732dfc",
   "metadata": {},
   "outputs": [
    {
     "data": {
      "text/plain": [
       "Agent                Week\n",
       "Aditya Shinde        30     2022-07-31 00:02:10.000000000\n",
       "Aditya_iot           29     2022-07-31 02:01:54.333333504\n",
       "                     30     2022-07-31 01:36:21.500000000\n",
       "Amersh               30     2022-07-31 00:45:57.500000000\n",
       "Ameya Jain           29     2022-07-31 03:26:25.571428608\n",
       "                     30     2022-07-31 05:59:50.999999744\n",
       "Ankitjha             30     2022-07-31 00:34:00.249999872\n",
       "Anurag Tiwari        29     2022-07-31 00:03:58.000000000\n",
       "                     30     2022-07-31 00:04:34.303030272\n",
       "Aravind              29     2022-07-31 03:01:46.000000000\n",
       "                     30     2022-07-31 00:01:54.500000000\n",
       "Ayushi Mishra        29     2022-07-31 03:33:29.000000000\n",
       "                     30     2022-07-31 01:33:50.230769408\n",
       "Bharath              29     2022-07-31 04:48:51.000000000\n",
       "                     30     2022-07-31 06:00:05.249999872\n",
       "Boktiar Ahmed Bappy  29     2022-07-31 03:33:00.200000000\n",
       "                     30     2022-07-31 01:52:35.500000000\n",
       "Chaitra K Hiremath   29     2022-07-31 01:07:02.500000000\n",
       "                     30     2022-07-31 02:55:02.454545408\n",
       "Deepranjan Gupta     29     2022-07-31 01:53:04.115384576\n",
       "Name: Duration, dtype: datetime64[ns]"
      ]
     },
     "execution_count": 183,
     "metadata": {},
     "output_type": "execute_result"
    }
   ],
   "source": [
    "df.groupby(['Agent','Week'])['Duration'].mean().head(20)"
   ]
  },
  {
   "cell_type": "markdown",
   "id": "57547848",
   "metadata": {},
   "source": [
    "14.total percentage of active hour for a month"
   ]
  },
  {
   "cell_type": "code",
   "execution_count": 197,
   "id": "507b107e",
   "metadata": {},
   "outputs": [],
   "source": [
    "df['Login Time'] = pd.to_datetime(df['Login Time'])\n",
    "df['Month']=pd.to_datetime(df['Date']).dt.month"
   ]
  },
  {
   "cell_type": "code",
   "execution_count": 203,
   "id": "598a9241",
   "metadata": {},
   "outputs": [
    {
     "data": {
      "text/html": [
       "<div>\n",
       "<style scoped>\n",
       "    .dataframe tbody tr th:only-of-type {\n",
       "        vertical-align: middle;\n",
       "    }\n",
       "\n",
       "    .dataframe tbody tr th {\n",
       "        vertical-align: top;\n",
       "    }\n",
       "\n",
       "    .dataframe thead th {\n",
       "        text-align: right;\n",
       "    }\n",
       "</style>\n",
       "<table border=\"1\" class=\"dataframe\">\n",
       "  <thead>\n",
       "    <tr style=\"text-align: right;\">\n",
       "      <th></th>\n",
       "      <th></th>\n",
       "      <th>Login Time</th>\n",
       "      <th>Duration</th>\n",
       "    </tr>\n",
       "    <tr>\n",
       "      <th>Agent</th>\n",
       "      <th>Month</th>\n",
       "      <th></th>\n",
       "      <th></th>\n",
       "    </tr>\n",
       "  </thead>\n",
       "  <tbody>\n",
       "    <tr>\n",
       "      <th>Aditya Shinde</th>\n",
       "      <th>7</th>\n",
       "      <td>2022-07-31 20:17:35.000000000</td>\n",
       "      <td>2022-07-31 00:02:10.000000000</td>\n",
       "    </tr>\n",
       "    <tr>\n",
       "      <th>Aditya_iot</th>\n",
       "      <th>7</th>\n",
       "      <td>2022-07-31 18:10:50.555555584</td>\n",
       "      <td>2022-07-31 01:44:52.444444416</td>\n",
       "    </tr>\n",
       "    <tr>\n",
       "      <th>Amersh</th>\n",
       "      <th>7</th>\n",
       "      <td>2022-07-31 13:41:48.249999872</td>\n",
       "      <td>2022-07-31 00:45:57.500000000</td>\n",
       "    </tr>\n",
       "    <tr>\n",
       "      <th>Ameya Jain</th>\n",
       "      <th>7</th>\n",
       "      <td>2022-07-31 16:48:58.400000000</td>\n",
       "      <td>2022-07-31 04:12:27.200000000</td>\n",
       "    </tr>\n",
       "    <tr>\n",
       "      <th>Ankitjha</th>\n",
       "      <th>7</th>\n",
       "      <td>2022-07-31 16:38:03.750000128</td>\n",
       "      <td>2022-07-31 00:34:00.249999872</td>\n",
       "    </tr>\n",
       "    <tr>\n",
       "      <th>Anurag Tiwari</th>\n",
       "      <th>7</th>\n",
       "      <td>2022-07-31 13:15:51.783783680</td>\n",
       "      <td>2022-07-31 00:04:30.378378240</td>\n",
       "    </tr>\n",
       "    <tr>\n",
       "      <th>Aravind</th>\n",
       "      <th>7</th>\n",
       "      <td>2022-07-31 15:45:19.500000000</td>\n",
       "      <td>2022-07-31 02:25:47.700000000</td>\n",
       "    </tr>\n",
       "    <tr>\n",
       "      <th>Ayushi Mishra</th>\n",
       "      <th>7</th>\n",
       "      <td>2022-07-31 15:19:23.777777664</td>\n",
       "      <td>2022-07-31 02:07:04.333333504</td>\n",
       "    </tr>\n",
       "    <tr>\n",
       "      <th>Bharath</th>\n",
       "      <th>7</th>\n",
       "      <td>2022-07-31 09:04:20.444444416</td>\n",
       "      <td>2022-07-31 05:20:30.666666752</td>\n",
       "    </tr>\n",
       "    <tr>\n",
       "      <th>Boktiar Ahmed Bappy</th>\n",
       "      <th>7</th>\n",
       "      <td>2022-07-31 18:04:15.470588160</td>\n",
       "      <td>2022-07-31 02:22:07.470588160</td>\n",
       "    </tr>\n",
       "    <tr>\n",
       "      <th>Chaitra K Hiremath</th>\n",
       "      <th>7</th>\n",
       "      <td>2022-07-31 15:09:33.692307712</td>\n",
       "      <td>2022-07-31 02:38:25.538461440</td>\n",
       "    </tr>\n",
       "    <tr>\n",
       "      <th>Deepranjan Gupta</th>\n",
       "      <th>7</th>\n",
       "      <td>2022-07-31 17:49:40.517241344</td>\n",
       "      <td>2022-07-31 01:49:56.396551680</td>\n",
       "    </tr>\n",
       "    <tr>\n",
       "      <th>Dibyanshu</th>\n",
       "      <th>7</th>\n",
       "      <td>2022-07-31 13:06:46.562500096</td>\n",
       "      <td>2022-07-31 00:15:10.312499968</td>\n",
       "    </tr>\n",
       "    <tr>\n",
       "      <th>Harikrishnan Shaji</th>\n",
       "      <th>7</th>\n",
       "      <td>2022-07-31 12:42:49.608695552</td>\n",
       "      <td>2022-07-31 02:20:07.521739008</td>\n",
       "    </tr>\n",
       "    <tr>\n",
       "      <th>Hrisikesh Neogi</th>\n",
       "      <th>7</th>\n",
       "      <td>2022-07-31 13:31:01.027026944</td>\n",
       "      <td>2022-07-31 01:33:21.270270464</td>\n",
       "    </tr>\n",
       "    <tr>\n",
       "      <th>Hyder Abbas</th>\n",
       "      <th>7</th>\n",
       "      <td>2022-07-31 17:56:10.000000000</td>\n",
       "      <td>2022-07-31 00:11:38.500000000</td>\n",
       "    </tr>\n",
       "    <tr>\n",
       "      <th>Ineuron Intelligence</th>\n",
       "      <th>7</th>\n",
       "      <td>2022-07-31 12:50:54.000000000</td>\n",
       "      <td>2022-07-31 01:26:55.000000000</td>\n",
       "    </tr>\n",
       "    <tr>\n",
       "      <th>Ishawant Kumar</th>\n",
       "      <th>7</th>\n",
       "      <td>2022-07-31 16:03:48.653061376</td>\n",
       "      <td>2022-07-31 01:03:24.163265536</td>\n",
       "    </tr>\n",
       "    <tr>\n",
       "      <th>Jawala Prakash</th>\n",
       "      <th>7</th>\n",
       "      <td>2022-07-31 16:46:06.312499968</td>\n",
       "      <td>2022-07-31 02:54:00.500000000</td>\n",
       "    </tr>\n",
       "    <tr>\n",
       "      <th>Jaydeep Dixit</th>\n",
       "      <th>7</th>\n",
       "      <td>2022-07-31 17:09:21.000000000</td>\n",
       "      <td>2022-07-31 03:34:03.200000000</td>\n",
       "    </tr>\n",
       "  </tbody>\n",
       "</table>\n",
       "</div>"
      ],
      "text/plain": [
       "                                               Login Time  \\\n",
       "Agent                 Month                                 \n",
       "Aditya Shinde         7     2022-07-31 20:17:35.000000000   \n",
       "Aditya_iot            7     2022-07-31 18:10:50.555555584   \n",
       "Amersh                7     2022-07-31 13:41:48.249999872   \n",
       "Ameya Jain            7     2022-07-31 16:48:58.400000000   \n",
       "Ankitjha              7     2022-07-31 16:38:03.750000128   \n",
       "Anurag Tiwari         7     2022-07-31 13:15:51.783783680   \n",
       "Aravind               7     2022-07-31 15:45:19.500000000   \n",
       "Ayushi Mishra         7     2022-07-31 15:19:23.777777664   \n",
       "Bharath               7     2022-07-31 09:04:20.444444416   \n",
       "Boktiar Ahmed Bappy   7     2022-07-31 18:04:15.470588160   \n",
       "Chaitra K Hiremath    7     2022-07-31 15:09:33.692307712   \n",
       "Deepranjan Gupta      7     2022-07-31 17:49:40.517241344   \n",
       "Dibyanshu             7     2022-07-31 13:06:46.562500096   \n",
       "Harikrishnan Shaji    7     2022-07-31 12:42:49.608695552   \n",
       "Hrisikesh Neogi       7     2022-07-31 13:31:01.027026944   \n",
       "Hyder Abbas           7     2022-07-31 17:56:10.000000000   \n",
       "Ineuron Intelligence  7     2022-07-31 12:50:54.000000000   \n",
       "Ishawant Kumar        7     2022-07-31 16:03:48.653061376   \n",
       "Jawala Prakash        7     2022-07-31 16:46:06.312499968   \n",
       "Jaydeep Dixit         7     2022-07-31 17:09:21.000000000   \n",
       "\n",
       "                                                 Duration  \n",
       "Agent                 Month                                \n",
       "Aditya Shinde         7     2022-07-31 00:02:10.000000000  \n",
       "Aditya_iot            7     2022-07-31 01:44:52.444444416  \n",
       "Amersh                7     2022-07-31 00:45:57.500000000  \n",
       "Ameya Jain            7     2022-07-31 04:12:27.200000000  \n",
       "Ankitjha              7     2022-07-31 00:34:00.249999872  \n",
       "Anurag Tiwari         7     2022-07-31 00:04:30.378378240  \n",
       "Aravind               7     2022-07-31 02:25:47.700000000  \n",
       "Ayushi Mishra         7     2022-07-31 02:07:04.333333504  \n",
       "Bharath               7     2022-07-31 05:20:30.666666752  \n",
       "Boktiar Ahmed Bappy   7     2022-07-31 02:22:07.470588160  \n",
       "Chaitra K Hiremath    7     2022-07-31 02:38:25.538461440  \n",
       "Deepranjan Gupta      7     2022-07-31 01:49:56.396551680  \n",
       "Dibyanshu             7     2022-07-31 00:15:10.312499968  \n",
       "Harikrishnan Shaji    7     2022-07-31 02:20:07.521739008  \n",
       "Hrisikesh Neogi       7     2022-07-31 01:33:21.270270464  \n",
       "Hyder Abbas           7     2022-07-31 00:11:38.500000000  \n",
       "Ineuron Intelligence  7     2022-07-31 01:26:55.000000000  \n",
       "Ishawant Kumar        7     2022-07-31 01:03:24.163265536  \n",
       "Jawala Prakash        7     2022-07-31 02:54:00.500000000  \n",
       "Jaydeep Dixit         7     2022-07-31 03:34:03.200000000  "
      ]
     },
     "execution_count": 203,
     "metadata": {},
     "output_type": "execute_result"
    }
   ],
   "source": [
    "df.groupby(['Agent','Month'])[['Login Time','Duration']].mean().head(20)"
   ]
  },
  {
   "cell_type": "code",
   "execution_count": null,
   "id": "82c785ce",
   "metadata": {},
   "outputs": [],
   "source": []
  }
 ],
 "metadata": {
  "kernelspec": {
   "display_name": "Python 3 (ipykernel)",
   "language": "python",
   "name": "python3"
  },
  "language_info": {
   "codemirror_mode": {
    "name": "ipython",
    "version": 3
   },
   "file_extension": ".py",
   "mimetype": "text/x-python",
   "name": "python",
   "nbconvert_exporter": "python",
   "pygments_lexer": "ipython3",
   "version": "3.9.7"
  }
 },
 "nbformat": 4,
 "nbformat_minor": 5
}
