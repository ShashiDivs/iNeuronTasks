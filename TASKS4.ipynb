{
 "cells": [
  {
   "cell_type": "markdown",
   "id": "b777513c",
   "metadata": {},
   "source": [
    "# TASK-4"
   ]
  },
  {
   "cell_type": "markdown",
   "id": "bcde9353",
   "metadata": {},
   "source": [
    "q1 : Try to print a prime number in between 1 to 1000"
   ]
  },
  {
   "cell_type": "code",
   "execution_count": 75,
   "id": "dcd58256",
   "metadata": {},
   "outputs": [],
   "source": [
    "def prime_number():\n",
    "    l = []\n",
    "    for i in range(1,1000):\n",
    "        for j in range(2,i):\n",
    "            if i%j==0:\n",
    "                break\n",
    "        else:\n",
    "            l.append(i)\n",
    "    return l"
   ]
  },
  {
   "cell_type": "code",
   "execution_count": 76,
   "id": "413798bb",
   "metadata": {},
   "outputs": [
    {
     "data": {
      "text/plain": [
       "[1,\n",
       " 2,\n",
       " 3,\n",
       " 5,\n",
       " 7,\n",
       " 11,\n",
       " 13,\n",
       " 17,\n",
       " 19,\n",
       " 23,\n",
       " 29,\n",
       " 31,\n",
       " 37,\n",
       " 41,\n",
       " 43,\n",
       " 47,\n",
       " 53,\n",
       " 59,\n",
       " 61,\n",
       " 67,\n",
       " 71,\n",
       " 73,\n",
       " 79,\n",
       " 83,\n",
       " 89,\n",
       " 97,\n",
       " 101,\n",
       " 103,\n",
       " 107,\n",
       " 109,\n",
       " 113,\n",
       " 127,\n",
       " 131,\n",
       " 137,\n",
       " 139,\n",
       " 149,\n",
       " 151,\n",
       " 157,\n",
       " 163,\n",
       " 167,\n",
       " 173,\n",
       " 179,\n",
       " 181,\n",
       " 191,\n",
       " 193,\n",
       " 197,\n",
       " 199,\n",
       " 211,\n",
       " 223,\n",
       " 227,\n",
       " 229,\n",
       " 233,\n",
       " 239,\n",
       " 241,\n",
       " 251,\n",
       " 257,\n",
       " 263,\n",
       " 269,\n",
       " 271,\n",
       " 277,\n",
       " 281,\n",
       " 283,\n",
       " 293,\n",
       " 307,\n",
       " 311,\n",
       " 313,\n",
       " 317,\n",
       " 331,\n",
       " 337,\n",
       " 347,\n",
       " 349,\n",
       " 353,\n",
       " 359,\n",
       " 367,\n",
       " 373,\n",
       " 379,\n",
       " 383,\n",
       " 389,\n",
       " 397,\n",
       " 401,\n",
       " 409,\n",
       " 419,\n",
       " 421,\n",
       " 431,\n",
       " 433,\n",
       " 439,\n",
       " 443,\n",
       " 449,\n",
       " 457,\n",
       " 461,\n",
       " 463,\n",
       " 467,\n",
       " 479,\n",
       " 487,\n",
       " 491,\n",
       " 499,\n",
       " 503,\n",
       " 509,\n",
       " 521,\n",
       " 523,\n",
       " 541,\n",
       " 547,\n",
       " 557,\n",
       " 563,\n",
       " 569,\n",
       " 571,\n",
       " 577,\n",
       " 587,\n",
       " 593,\n",
       " 599,\n",
       " 601,\n",
       " 607,\n",
       " 613,\n",
       " 617,\n",
       " 619,\n",
       " 631,\n",
       " 641,\n",
       " 643,\n",
       " 647,\n",
       " 653,\n",
       " 659,\n",
       " 661,\n",
       " 673,\n",
       " 677,\n",
       " 683,\n",
       " 691,\n",
       " 701,\n",
       " 709,\n",
       " 719,\n",
       " 727,\n",
       " 733,\n",
       " 739,\n",
       " 743,\n",
       " 751,\n",
       " 757,\n",
       " 761,\n",
       " 769,\n",
       " 773,\n",
       " 787,\n",
       " 797,\n",
       " 809,\n",
       " 811,\n",
       " 821,\n",
       " 823,\n",
       " 827,\n",
       " 829,\n",
       " 839,\n",
       " 853,\n",
       " 857,\n",
       " 859,\n",
       " 863,\n",
       " 877,\n",
       " 881,\n",
       " 883,\n",
       " 887,\n",
       " 907,\n",
       " 911,\n",
       " 919,\n",
       " 929,\n",
       " 937,\n",
       " 941,\n",
       " 947,\n",
       " 953,\n",
       " 967,\n",
       " 971,\n",
       " 977,\n",
       " 983,\n",
       " 991,\n",
       " 997]"
      ]
     },
     "execution_count": 76,
     "metadata": {},
     "output_type": "execute_result"
    }
   ],
   "source": [
    "prime_number()"
   ]
  },
  {
   "cell_type": "markdown",
   "id": "f03a9e76",
   "metadata": {},
   "source": [
    "q2 : Try to write a function which  is equivalent  to print function in python"
   ]
  },
  {
   "cell_type": "code",
   "execution_count": 74,
   "id": "d9524c0f",
   "metadata": {},
   "outputs": [],
   "source": [
    "def prints(*a):\n",
    "    if type(a) == str or type(a) == list or type(a) == int or type(a) == tuple:\n",
    "        return a\n",
    "        "
   ]
  },
  {
   "cell_type": "code",
   "execution_count": 77,
   "id": "1614e1c4",
   "metadata": {},
   "outputs": [
    {
     "data": {
      "text/plain": [
       "(1, 'shashi', (1, 2, 3, 4, 9), [1, 2, 34, 5, 6])"
      ]
     },
     "execution_count": 77,
     "metadata": {},
     "output_type": "execute_result"
    }
   ],
   "source": [
    "prints(1,\"shashi\",(1,2,3,4,9),[1,2,34,5,6])"
   ]
  },
  {
   "cell_type": "code",
   "execution_count": 73,
   "id": "e1d08c2f",
   "metadata": {},
   "outputs": [
    {
     "name": "stdout",
     "output_type": "stream",
     "text": [
      "1 shashi\n"
     ]
    }
   ],
   "source": [
    "print(1,\"shashi\")"
   ]
  },
  {
   "cell_type": "markdown",
   "id": "62d0b6db",
   "metadata": {},
   "source": [
    "q3 : Try to write a function which is a replica of list append , extend and pop function "
   ]
  },
  {
   "cell_type": "code",
   "execution_count": 6,
   "id": "33f0ce3b",
   "metadata": {},
   "outputs": [],
   "source": [
    "def appends(a):\n",
    "    l = []\n",
    "    if type(a) == tuple or type(a) == list or type(a) == str:\n",
    "            l.append(a)\n",
    "    return l"
   ]
  },
  {
   "cell_type": "code",
   "execution_count": 7,
   "id": "e3a20ecb",
   "metadata": {},
   "outputs": [
    {
     "data": {
      "text/plain": [
       "[['shashi']]"
      ]
     },
     "execution_count": 7,
     "metadata": {},
     "output_type": "execute_result"
    }
   ],
   "source": [
    "ls = [\"shashi\"]\n",
    "appends(ls)"
   ]
  },
  {
   "cell_type": "code",
   "execution_count": 8,
   "id": "9fdfcca6",
   "metadata": {},
   "outputs": [
    {
     "data": {
      "text/plain": [
       "[[[1, 2, 3, 4, 5], (1, 2, 3, 4, 5), 'shashi']]"
      ]
     },
     "execution_count": 8,
     "metadata": {},
     "output_type": "execute_result"
    }
   ],
   "source": [
    "appends([[1,2,3,4,5],(1,2,3,4,5),\"shashi\"])"
   ]
  },
  {
   "cell_type": "code",
   "execution_count": 10,
   "id": "28453747",
   "metadata": {},
   "outputs": [],
   "source": [
    "def pops(a):\n",
    "    for i in list(a):\n",
    "        a.pop()\n",
    "    return i"
   ]
  },
  {
   "cell_type": "code",
   "execution_count": 11,
   "id": "0873bd27",
   "metadata": {},
   "outputs": [
    {
     "data": {
      "text/plain": [
       "7"
      ]
     },
     "execution_count": 11,
     "metadata": {},
     "output_type": "execute_result"
    }
   ],
   "source": [
    "pops([1,2,3,4,5,7])"
   ]
  },
  {
   "cell_type": "code",
   "execution_count": 12,
   "id": "effc6b9e",
   "metadata": {},
   "outputs": [],
   "source": [
    "ls1= [\"shashi\",\"divya\",(1,2,3,4,5),[1,2,3,4,\"iNeuron\"],(1,2,3,5,6)]"
   ]
  },
  {
   "cell_type": "code",
   "execution_count": 13,
   "id": "5b85774e",
   "metadata": {},
   "outputs": [
    {
     "data": {
      "text/plain": [
       "(1, 2, 3, 5, 6)"
      ]
     },
     "execution_count": 13,
     "metadata": {},
     "output_type": "execute_result"
    }
   ],
   "source": [
    "pops(ls1)"
   ]
  },
  {
   "cell_type": "code",
   "execution_count": 14,
   "id": "ea945d0b",
   "metadata": {},
   "outputs": [],
   "source": [
    "def extends(a,b):\n",
    "    l = [a]\n",
    "    if type(a) == list:\n",
    "        l.extend(b)\n",
    "    return l"
   ]
  },
  {
   "cell_type": "code",
   "execution_count": 15,
   "id": "44c67d43",
   "metadata": {},
   "outputs": [
    {
     "data": {
      "text/plain": [
       "[[1, 2, 3, 4], 'shashi']"
      ]
     },
     "execution_count": 15,
     "metadata": {},
     "output_type": "execute_result"
    }
   ],
   "source": [
    "shashi = [\"shashi\"]\n",
    "extends([1,2,3,4],[\"shashi\"])"
   ]
  },
  {
   "cell_type": "markdown",
   "id": "e7f9b8fb",
   "metadata": {},
   "source": [
    "q4 : Try to write a lambda function which can return a concatination of all the string that we will pass"
   ]
  },
  {
   "cell_type": "code",
   "execution_count": 4,
   "id": "347ca3bf",
   "metadata": {},
   "outputs": [],
   "source": [
    "concat = lambda x,y: x.title() + y.upper()"
   ]
  },
  {
   "cell_type": "code",
   "execution_count": 5,
   "id": "f9cefd5f",
   "metadata": {},
   "outputs": [
    {
     "data": {
      "text/plain": [
       "'ShashiDIVYA'"
      ]
     },
     "execution_count": 5,
     "metadata": {},
     "output_type": "execute_result"
    }
   ],
   "source": [
    "concat(\"shashi\",\"divya\")"
   ]
  },
  {
   "cell_type": "markdown",
   "id": "56169d91",
   "metadata": {},
   "source": [
    "q5 : Try to write a lambda function which can return list of square of all the data between 1-100 "
   ]
  },
  {
   "cell_type": "code",
   "execution_count": 82,
   "id": "93220fed",
   "metadata": {},
   "outputs": [],
   "source": [
    "num = range(1,100)\n",
    "lis = map(lambda x:x**2,num)"
   ]
  },
  {
   "cell_type": "code",
   "execution_count": 84,
   "id": "c4fcb17d",
   "metadata": {},
   "outputs": [
    {
     "name": "stdout",
     "output_type": "stream",
     "text": [
      "[1, 4, 9, 16, 25, 36, 49, 64, 81, 100, 121, 144, 169, 196, 225, 256, 289, 324, 361, 400, 441, 484, 529, 576, 625, 676, 729, 784, 841, 900, 961, 1024, 1089, 1156, 1225, 1296, 1369, 1444, 1521, 1600, 1681, 1764, 1849, 1936, 2025, 2116, 2209, 2304, 2401, 2500, 2601, 2704, 2809, 2916, 3025, 3136, 3249, 3364, 3481, 3600, 3721, 3844, 3969, 4096, 4225, 4356, 4489, 4624, 4761, 4900, 5041, 5184, 5329, 5476, 5625, 5776, 5929, 6084, 6241, 6400, 6561, 6724, 6889, 7056, 7225, 7396, 7569, 7744, 7921, 8100, 8281, 8464, 8649, 8836, 9025, 9216, 9409, 9604, 9801]\n"
     ]
    }
   ],
   "source": [
    "print(list(lis))"
   ]
  },
  {
   "cell_type": "markdown",
   "id": "98bd8611",
   "metadata": {},
   "source": [
    "q6 : Try to write a 10 Different different example of lambda function with a choice of your taks "
   ]
  },
  {
   "cell_type": "code",
   "execution_count": 18,
   "id": "4f5cdeb6",
   "metadata": {},
   "outputs": [],
   "source": [
    "g = lambda x:x+3"
   ]
  },
  {
   "cell_type": "code",
   "execution_count": 19,
   "id": "502724fd",
   "metadata": {},
   "outputs": [
    {
     "data": {
      "text/plain": [
       "5"
      ]
     },
     "execution_count": 19,
     "metadata": {},
     "output_type": "execute_result"
    }
   ],
   "source": [
    "g(2)"
   ]
  },
  {
   "cell_type": "code",
   "execution_count": 29,
   "id": "e92404af",
   "metadata": {},
   "outputs": [],
   "source": [
    "text = lambda x:str(x.upper())"
   ]
  },
  {
   "cell_type": "code",
   "execution_count": 30,
   "id": "5c372677",
   "metadata": {},
   "outputs": [
    {
     "data": {
      "text/plain": [
       "'SHASHI'"
      ]
     },
     "execution_count": 30,
     "metadata": {},
     "output_type": "execute_result"
    }
   ],
   "source": [
    "text(\"shashi\")"
   ]
  },
  {
   "cell_type": "code",
   "execution_count": 49,
   "id": "ada3845b",
   "metadata": {},
   "outputs": [],
   "source": [
    "lis = lambda x,y: x+y"
   ]
  },
  {
   "cell_type": "code",
   "execution_count": 50,
   "id": "743d8e52",
   "metadata": {},
   "outputs": [
    {
     "data": {
      "text/plain": [
       "[1, 2, 3, 4, 5, 6, 'shashi', 'divya']"
      ]
     },
     "execution_count": 50,
     "metadata": {},
     "output_type": "execute_result"
    }
   ],
   "source": [
    "lis([1,2,3,4,5,6],[\"shashi\",\"divya\"])"
   ]
  },
  {
   "cell_type": "code",
   "execution_count": 63,
   "id": "3caa8706",
   "metadata": {},
   "outputs": [],
   "source": [
    "dic = lambda x,y: {x:y}"
   ]
  },
  {
   "cell_type": "code",
   "execution_count": 66,
   "id": "5fc3ea4a",
   "metadata": {},
   "outputs": [
    {
     "data": {
      "text/plain": [
       "{'Name': 'Shashi'}"
      ]
     },
     "execution_count": 66,
     "metadata": {},
     "output_type": "execute_result"
    }
   ],
   "source": [
    "dic(\"Name\",\"Shashi\")"
   ]
  },
  {
   "cell_type": "code",
   "execution_count": 100,
   "id": "7390e932",
   "metadata": {},
   "outputs": [],
   "source": [
    "sfamily = [\"Shankar\",\"Sarojana\",\"Shashi\",\"Divya\",\"Karthik\",\"Dharani\",\"Honey\",\"Shreshta\"]"
   ]
  },
  {
   "cell_type": "code",
   "execution_count": 112,
   "id": "a894e7d9",
   "metadata": {},
   "outputs": [],
   "source": [
    "sfamily.sort(key=lambda x:x.split(\" \")[-1].lower(),reverse=False)"
   ]
  },
  {
   "cell_type": "code",
   "execution_count": 108,
   "id": "3952fa9d",
   "metadata": {},
   "outputs": [
    {
     "data": {
      "text/plain": [
       "['Dharani',\n",
       " 'Divya',\n",
       " 'Honey',\n",
       " 'Karthik',\n",
       " 'Sarojana',\n",
       " 'Shankar',\n",
       " 'Shashi',\n",
       " 'Shreshta']"
      ]
     },
     "execution_count": 108,
     "metadata": {},
     "output_type": "execute_result"
    }
   ],
   "source": [
    "sfamily"
   ]
  },
  {
   "cell_type": "code",
   "execution_count": 132,
   "id": "d56fc66f",
   "metadata": {},
   "outputs": [],
   "source": [
    "mx = lambda x,y:x if x > y else y"
   ]
  },
  {
   "cell_type": "code",
   "execution_count": 133,
   "id": "d9e563df",
   "metadata": {},
   "outputs": [
    {
     "data": {
      "text/plain": [
       "23"
      ]
     },
     "execution_count": 133,
     "metadata": {},
     "output_type": "execute_result"
    }
   ],
   "source": [
    "mx(10,23)"
   ]
  },
  {
   "cell_type": "code",
   "execution_count": 140,
   "id": "12a82e91",
   "metadata": {},
   "outputs": [],
   "source": [
    "zx = lambda x: x%2==0 if x else \"oops\""
   ]
  },
  {
   "cell_type": "code",
   "execution_count": 142,
   "id": "7daa6803",
   "metadata": {},
   "outputs": [
    {
     "data": {
      "text/plain": [
       "False"
      ]
     },
     "execution_count": 142,
     "metadata": {},
     "output_type": "execute_result"
    }
   ],
   "source": [
    "zx(11)"
   ]
  },
  {
   "cell_type": "code",
   "execution_count": 143,
   "id": "c2715c28",
   "metadata": {},
   "outputs": [
    {
     "name": "stdout",
     "output_type": "stream",
     "text": [
      "[2, 4, 6, 8, 10, 12]\n"
     ]
    }
   ],
   "source": [
    "num = [1,2,3,4,5,6]\n",
    "print(list(map(lambda x:x*2,num)))"
   ]
  },
  {
   "cell_type": "code",
   "execution_count": 152,
   "id": "676ae229",
   "metadata": {},
   "outputs": [
    {
     "name": "stdout",
     "output_type": "stream",
     "text": [
      "{9, 3, 7}\n"
     ]
    }
   ],
   "source": [
    "nums = [9,7,8,9,3,4,6,7,8,9]\n",
    "res = filter(lambda x: x%2!=0,nums)\n",
    "print(set(res))"
   ]
  },
  {
   "cell_type": "code",
   "execution_count": 155,
   "id": "5824f0c0",
   "metadata": {},
   "outputs": [],
   "source": [
    "import functools"
   ]
  },
  {
   "cell_type": "code",
   "execution_count": 158,
   "id": "ee327ac2",
   "metadata": {},
   "outputs": [
    {
     "name": "stdout",
     "output_type": "stream",
     "text": [
      "42\n",
      "9\n"
     ]
    }
   ],
   "source": [
    "a = [9,10,11,12]\n",
    "print(functools.reduce(lambda x,y:x+y,a))\n",
    "print(functools.reduce(lambda x,y: x if x<y else y,a))"
   ]
  },
  {
   "cell_type": "markdown",
   "id": "000ba0be",
   "metadata": {},
   "source": [
    "q7 : Try to write a funtion whihc can perform a read operation from .txt file "
   ]
  },
  {
   "cell_type": "code",
   "execution_count": 15,
   "id": "d98da0b3",
   "metadata": {},
   "outputs": [],
   "source": [
    "def read_file(a):\n",
    "    f = open(a,\"r\")\n",
    "    print(f.read())\n",
    "    f.close()"
   ]
  },
  {
   "cell_type": "code",
   "execution_count": 17,
   "id": "9dca13d8",
   "metadata": {},
   "outputs": [
    {
     "name": "stdout",
     "output_type": "stream",
     "text": [
      "i am shashi learning python at iNeuron....\n"
     ]
    }
   ],
   "source": [
    "a = \"readfile.txt\"\n",
    "read_file(a)"
   ]
  }
 ],
 "metadata": {
  "kernelspec": {
   "display_name": "Python 3 (ipykernel)",
   "language": "python",
   "name": "python3"
  },
  "language_info": {
   "codemirror_mode": {
    "name": "ipython",
    "version": 3
   },
   "file_extension": ".py",
   "mimetype": "text/x-python",
   "name": "python",
   "nbconvert_exporter": "python",
   "pygments_lexer": "ipython3",
   "version": "3.9.7"
  }
 },
 "nbformat": 4,
 "nbformat_minor": 5
}
